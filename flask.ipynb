{
 "cells": [
  {
   "cell_type": "code",
   "execution_count": null,
   "id": "05f4a0f4",
   "metadata": {},
   "outputs": [
    {
     "name": "stdout",
     "output_type": "stream",
     "text": [
      " * Serving Flask app '__main__'\n",
      " * Debug mode: off\n"
     ]
    },
    {
     "name": "stderr",
     "output_type": "stream",
     "text": [
      "WARNING: This is a development server. Do not use it in a production deployment. Use a production WSGI server instead.\n",
      " * Running on http://localhost:3000\n",
      "Press CTRL+C to quit\n",
      "127.0.0.1 - - [02/Feb/2023 01:38:48] \"GET / HTTP/1.1\" 200 -\n",
      "127.0.0.1 - - [02/Feb/2023 01:38:49] \"GET /favicon.ico HTTP/1.1\" 404 -\n",
      "/home/asif/.local/lib/python3.10/site-packages/sklearn/base.py:450: UserWarning: X does not have valid feature names, but RandomForestClassifier was fitted with feature names\n",
      "  warnings.warn(\n",
      "127.0.0.1 - - [02/Feb/2023 01:39:11] \"POST /predict HTTP/1.1\" 200 -\n"
     ]
    }
   ],
   "source": [
    "import numpy as np\n",
    "from flask import Flask, request, render_template\n",
    "import pickle\n",
    "\n",
    "app = Flask(__name__)\n",
    "model = pickle.load(open('pickle.pkl', 'rb'))\n",
    "    \n",
    "@app.route('/')\n",
    "def home():\n",
    "    return render_template('index.html')\n",
    "   \n",
    "\n",
    "@app.route('/predict', methods=['POST'])\n",
    "def predict():\n",
    "    if request.method == 'POST':\n",
    "        \n",
    "        LIMIT_BAL=int(request.form[\"LIMIT_BAL\"])\n",
    "        PAY_0=int(request.form[\"PAY_0\"])\n",
    "        PAY_2=int(request.form[\"PAY_2\"])\n",
    "        PAY_3=int(request.form[\"PAY_3\"])\n",
    "        PAY_4=int(request.form[\"PAY_4\"])\n",
    "        PAY_5=int(request.form[\"PAY_5\"])\n",
    "        PAY_6=int(request.form[\"PAY_6\"])\n",
    "        PAY_AMT1=int(request.form[\"PAY_AMT1\"])\n",
    "        PAY_AMT2=int(request.form[\"PAY_AMT2\"])\n",
    "        PAY_AMT3=int(request.form[\"PAY_AMT3\"])\n",
    "        PAY_AMT6=int(request.form[\"PAY_AMT6\"])\n",
    "        \n",
    "        \n",
    "                      \n",
    "        data = np.array([[LIMIT_BAL,PAY_0,PAY_2,PAY_3,PAY_4,PAY_5,PAY_6,PAY_AMT1,PAY_AMT2,PAY_AMT3,PAY_AMT6]])\n",
    "        my_prediction = model.predict(data)\n",
    "        \n",
    "        return render_template('result.html', prediction=my_prediction)\n",
    "              \n",
    "if __name__ == '__main__':\n",
    "    app.run(host=\"localhost\", port=3000)"
   ]
  },
  {
   "cell_type": "code",
   "execution_count": null,
   "id": "895744a0",
   "metadata": {},
   "outputs": [],
   "source": []
  }
 ],
 "metadata": {
  "kernelspec": {
   "display_name": "Python 3 (ipykernel)",
   "language": "python",
   "name": "python3"
  },
  "language_info": {
   "codemirror_mode": {
    "name": "ipython",
    "version": 3
   },
   "file_extension": ".py",
   "mimetype": "text/x-python",
   "name": "python",
   "nbconvert_exporter": "python",
   "pygments_lexer": "ipython3",
   "version": "3.10.8"
  }
 },
 "nbformat": 4,
 "nbformat_minor": 5
}
